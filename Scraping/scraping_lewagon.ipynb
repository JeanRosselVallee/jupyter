{
 "cells": [
  {
   "cell_type": "markdown",
   "metadata": {},
   "source": [
    "# Web Scraping"
   ]
  },
  {
   "cell_type": "markdown",
   "metadata": {},
   "source": [
    "Let's parse the front page of [Books To Scrape](http://books.toscrape.com/index.html).<br>\n",
    "The server receives an URL as a request and sends an HTML file as a response.\n",
    "The HTML contents are formatted by BeautifulSoup"
   ]
  },
  {
   "cell_type": "code",
   "execution_count": 2,
   "metadata": {},
   "outputs": [],
   "source": [
    "import requests\n",
    "from bs4 import BeautifulSoup\n",
    "\n",
    "def get_parsed(url):\n",
    "    response = requests.get(url)\n",
    "    html = response.content\n",
    "    return BeautifulSoup(html, 'html.parser')\n",
    "\n",
    "parsed = get_parsed(\"http://books.toscrape.com/index.html\")\n"
   ]
  },
  {
   "cell_type": "markdown",
   "metadata": {},
   "source": [
    "Contents of the ***HTML*** file: "
   ]
  },
  {
   "cell_type": "code",
   "execution_count": 12,
   "metadata": {},
   "outputs": [
    {
     "name": "stdout",
     "output_type": "stream",
     "text": [
      "<article class=\"product_pod\">\n",
      "<div class=\"image_container\">\n",
      "<a href=\"catalogue/a-light-in-the-attic_1000/index.html\"><img alt=\"A Light in the Attic\" class=\"thumbnail\" src=\"media/cache/2c/da/2cdad67c44b002e7ead0cc35693c0e8b.jpg\"/></a>\n",
      "</div>\n",
      "<p class=\"star-rating Three\">\n",
      "<i class=\"icon-star\"></i>\n",
      "<i class=\"icon-star\"></i>\n",
      "<i class=\"icon-star\"></i>\n",
      "<i class=\"icon-star\"></i>\n",
      "<i class=\"icon-star\"></i>\n",
      "</p>\n",
      "<h3><a href=\"catalogue/a-light-in-the-attic_1000/index.html\" title=\"A Light in the Attic\">A Light in the ...</a></h3>\n",
      "<div class=\"product_price\">\n",
      "<p class=\"price_color\">£51.77</p>\n",
      "<p class=\"instock availability\">\n",
      "<i class=\"icon-ok\"></i>\n",
      "    \n",
      "        In stock\n",
      "    \n",
      "</p>\n",
      "<form>\n",
      "<button class=\"btn btn-primary btn-block\" data-loading-text=\"Adding...\" type=\"submit\">Add to basket</button>\n",
      "</form>\n",
      "</div>\n",
      "</article>\n"
     ]
    }
   ],
   "source": [
    "print(parsed.body.article)"
   ]
  },
  {
   "cell_type": "markdown",
   "metadata": {},
   "source": [
    "Each **book** is an article with title and price elements"
   ]
  },
  {
   "cell_type": "code",
   "execution_count": 27,
   "metadata": {
    "scrolled": false
   },
   "outputs": [
    {
     "name": "stdout",
     "output_type": "stream",
     "text": [
      "[On the Road (Duluoz Legend),32.36]\n",
      "[Old Records Never Die: One Man's Quest for His Vinyl and His Past,55.66]\n",
      "[Off Sides (Off #1),39.45]\n",
      "[Of Mice and Men,47.11]\n",
      "[Myriad (Prentor #1),58.75]\n",
      "[My Perfect Mistake (Over the Top #1),38.92]\n",
      "[Ms. Marvel, Vol. 1: No Normal (Ms. Marvel (2014-2015) #1),39.39]\n",
      "[Meditations,25.89]\n",
      "[Matilda,28.34]\n",
      "[Lost Among the Living,27.7]\n",
      "[Lord of the Flies,24.89]\n",
      "[Listen to Me (Fusion #1),58.99]\n",
      "[Kitchens of the Great Midwest,57.2]\n",
      "[Jane Eyre,38.43]\n",
      "[Imperfect Harmony,34.74]\n",
      "[Icing (Aces Hockey #2),40.44]\n",
      "[Hawkeye, Vol. 1: My Life as a Weapon (Hawkeye #1),45.24]\n",
      "[Having the Barbarian's Baby (Ice Planet Barbarians #7.5),34.96]\n",
      "[Giant Days, Vol. 1 (Giant Days #1-4),56.76]\n",
      "[Fruits Basket, Vol. 1 (Fruits Basket #1),40.28]\n"
     ]
    }
   ],
   "source": [
    "def get_elements(articles): \n",
    "    for book in in_books:\n",
    "        title = book.h3.a[\"title\"]\n",
    "        str_price = book.find(class_=\"price_color\")\n",
    "        f_price = float(str_price.text.lstrip(\"£\"))\n",
    "        print(\"[\" + title + \",\" + str(f_price) + \"]\")\n",
    "\n",
    "articles = parsed.find_all(\"article\") \n",
    "get_elements(articles)"
   ]
  },
  {
   "cell_type": "markdown",
   "metadata": {},
   "source": [
    "## Multi-pages Scraping"
   ]
  },
  {
   "cell_type": "markdown",
   "metadata": {},
   "source": [
    "Let's parse the first ***2*** pages of the catalog"
   ]
  },
  {
   "cell_type": "code",
   "execution_count": 28,
   "metadata": {},
   "outputs": [
    {
     "name": "stdout",
     "output_type": "stream",
     "text": [
      "[On the Road (Duluoz Legend),32.36]\n",
      "[Old Records Never Die: One Man's Quest for His Vinyl and His Past,55.66]\n",
      "[Off Sides (Off #1),39.45]\n",
      "[Of Mice and Men,47.11]\n",
      "[Myriad (Prentor #1),58.75]\n",
      "[My Perfect Mistake (Over the Top #1),38.92]\n",
      "[Ms. Marvel, Vol. 1: No Normal (Ms. Marvel (2014-2015) #1),39.39]\n",
      "[Meditations,25.89]\n",
      "[Matilda,28.34]\n",
      "[Lost Among the Living,27.7]\n",
      "[Lord of the Flies,24.89]\n",
      "[Listen to Me (Fusion #1),58.99]\n",
      "[Kitchens of the Great Midwest,57.2]\n",
      "[Jane Eyre,38.43]\n",
      "[Imperfect Harmony,34.74]\n",
      "[Icing (Aces Hockey #2),40.44]\n",
      "[Hawkeye, Vol. 1: My Life as a Weapon (Hawkeye #1),45.24]\n",
      "[Having the Barbarian's Baby (Ice Planet Barbarians #7.5),34.96]\n",
      "[Giant Days, Vol. 1 (Giant Days #1-4),56.76]\n",
      "[Fruits Basket, Vol. 1 (Fruits Basket #1),40.28]\n",
      "[On the Road (Duluoz Legend),32.36]\n",
      "[Old Records Never Die: One Man's Quest for His Vinyl and His Past,55.66]\n",
      "[Off Sides (Off #1),39.45]\n",
      "[Of Mice and Men,47.11]\n",
      "[Myriad (Prentor #1),58.75]\n",
      "[My Perfect Mistake (Over the Top #1),38.92]\n",
      "[Ms. Marvel, Vol. 1: No Normal (Ms. Marvel (2014-2015) #1),39.39]\n",
      "[Meditations,25.89]\n",
      "[Matilda,28.34]\n",
      "[Lost Among the Living,27.7]\n",
      "[Lord of the Flies,24.89]\n",
      "[Listen to Me (Fusion #1),58.99]\n",
      "[Kitchens of the Great Midwest,57.2]\n",
      "[Jane Eyre,38.43]\n",
      "[Imperfect Harmony,34.74]\n",
      "[Icing (Aces Hockey #2),40.44]\n",
      "[Hawkeye, Vol. 1: My Life as a Weapon (Hawkeye #1),45.24]\n",
      "[Having the Barbarian's Baby (Ice Planet Barbarians #7.5),34.96]\n",
      "[Giant Days, Vol. 1 (Giant Days #1-4),56.76]\n",
      "[Fruits Basket, Vol. 1 (Fruits Basket #1),40.28]\n",
      "[On the Road (Duluoz Legend),32.36]\n",
      "[Old Records Never Die: One Man's Quest for His Vinyl and His Past,55.66]\n",
      "[Off Sides (Off #1),39.45]\n",
      "[Of Mice and Men,47.11]\n",
      "[Myriad (Prentor #1),58.75]\n",
      "[My Perfect Mistake (Over the Top #1),38.92]\n",
      "[Ms. Marvel, Vol. 1: No Normal (Ms. Marvel (2014-2015) #1),39.39]\n",
      "[Meditations,25.89]\n",
      "[Matilda,28.34]\n",
      "[Lost Among the Living,27.7]\n",
      "[Lord of the Flies,24.89]\n",
      "[Listen to Me (Fusion #1),58.99]\n",
      "[Kitchens of the Great Midwest,57.2]\n",
      "[Jane Eyre,38.43]\n",
      "[Imperfect Harmony,34.74]\n",
      "[Icing (Aces Hockey #2),40.44]\n",
      "[Hawkeye, Vol. 1: My Life as a Weapon (Hawkeye #1),45.24]\n",
      "[Having the Barbarian's Baby (Ice Planet Barbarians #7.5),34.96]\n",
      "[Giant Days, Vol. 1 (Giant Days #1-4),56.76]\n",
      "[Fruits Basket, Vol. 1 (Fruits Basket #1),40.28]\n"
     ]
    }
   ],
   "source": [
    "out_books = []\n",
    "for page_no in range(3):\n",
    "    url = \"http://books.toscrape.com/catalogue/page-\" + str(page_no) + \".html\"\n",
    "    parsed = get_parsed(url)\n",
    "    articles = parsed.find_all(\"article\") \n",
    "    get_elements(articles)"
   ]
  }
 ],
 "metadata": {
  "kernelspec": {
   "display_name": "Python 3",
   "language": "python",
   "name": "python3"
  },
  "language_info": {
   "codemirror_mode": {
    "name": "ipython",
    "version": 3
   },
   "file_extension": ".py",
   "mimetype": "text/x-python",
   "name": "python",
   "nbconvert_exporter": "python",
   "pygments_lexer": "ipython3",
   "version": "3.8.5"
  }
 },
 "nbformat": 4,
 "nbformat_minor": 2
}
