{
 "cells": [
  {
   "cell_type": "markdown",
   "metadata": {},
   "source": [
    "# Twitter Sentiment Analysis\n",
    "\n",
    "<b>Check notebooks online</b>: we suggest NB Viewer to get a static view of notebooks and Google Colab for interactive ones --> \n",
    "<a href=\"https://colab.research.google.com/github/JeanRosselVallee/jupyter/blob/master/ML/TwitterSentiment.ipynb\" target=\"_blank\"> \n",
    "    <button type=\"button\"><b>Open in Colab</b></button>\n",
    "</a>"
   ]
  },
  {
   "cell_type": "markdown",
   "metadata": {},
   "source": [
    "A basic task in sentiment analysis is classifying the polarity of a given text as positive, negative, or neutral. <br>Here, a graph displays the polarity of Tweets on the chosen subject. Cf. <a href=\"https://www.earthdatascience.org/courses/use-data-open-source-python/intro-to-apis/analyze-tweet-sentiment-in-python/\">Earth Lab</a><br>NB: to run this code, you will need your Twitter access keys."
   ]
  },
  {
   "cell_type": "code",
   "execution_count": 97,
   "metadata": {},
   "outputs": [
    {
     "data": {
      "text/html": [
       "<script> $( document ).ready($('div.input').hide()); </script>\n",
       "<b>Code cells' visibility</b>: The raw code in cells is hidden for easier reading. \n",
       "<a href=\"javascript:$('div.input').show()\"><button type=\"button\"><b>Show Code</b></button></a>"
      ],
      "text/plain": [
       "<IPython.core.display.HTML object>"
      ]
     },
     "execution_count": 97,
     "metadata": {},
     "output_type": "execute_result"
    }
   ],
   "source": [
    "from IPython.display import HTML\n",
    "HTML('''<script> $( document ).ready($('div.input').hide()); </script>\n",
    "<b>Code cells' visibility</b>: The raw code in cells is hidden for easier reading. \n",
    "<a href=\"javascript:$('div.input').show()\"><button type=\"button\"><b>Show Code</b></button></a>''')"
   ]
  },
  {
   "cell_type": "markdown",
   "metadata": {},
   "source": [
    "### 1. Choose Data tools"
   ]
  },
  {
   "cell_type": "code",
   "execution_count": 72,
   "metadata": {},
   "outputs": [],
   "source": [
    "import pandas as pd\n",
    "import matplotlib.pyplot as plt\n",
    "import tweepy as tw     # Twitter API\n",
    "import re\n",
    "import textblob\n",
    "from textblob import TextBlob # Sentiment Analysis\n",
    "import textblob_fr\n",
    "from textblob_fr import PatternTagger, PatternAnalyzer\n",
    "import getpass"
   ]
  },
  {
   "cell_type": "markdown",
   "metadata": {},
   "source": [
    "### 2. Configure"
   ]
  },
  {
   "cell_type": "code",
   "execution_count": 73,
   "metadata": {},
   "outputs": [
    {
     "name": "stdout",
     "output_type": "stream",
     "text": [
      "Enter the nb of Tweets to process: 100\n"
     ]
    }
   ],
   "source": [
    "# Nb of input Tweets\n",
    "par_sample_size = int(input(\"Enter the nb of Tweets to process: \")) or 999\n",
    "\n",
    "# Get tweets after this date\n",
    "search_start_date = \"2021-03-01\""
   ]
  },
  {
   "cell_type": "markdown",
   "metadata": {},
   "source": [
    "### 3. Choose your language and topic"
   ]
  },
  {
   "cell_type": "code",
   "execution_count": 74,
   "metadata": {},
   "outputs": [
    {
     "name": "stdout",
     "output_type": "stream",
     "text": [
      "Enter a language: french\n"
     ]
    }
   ],
   "source": [
    "# Select tweets' language\n",
    "language = input(\"Enter a language: \") or \"french\"\n",
    "\n",
    "# Initialize language variables\n",
    "if   (language == 'english'): par_lang = 'en'\n",
    "elif (language == 'french'):  par_lang = 'fr'\n",
    "else : print(\"ERROR: Please enter a valid language\")               "
   ]
  },
  {
   "cell_type": "code",
   "execution_count": 75,
   "metadata": {},
   "outputs": [
    {
     "name": "stdout",
     "output_type": "stream",
     "text": [
      "Enter a topic: vaccin\n"
     ]
    }
   ],
   "source": [
    "# Enter a topic as a keyword \n",
    "# climate+change climate+change BigData+programmer Macron astrazeneca\n",
    "par_keywords = \"#\" + input(\"Enter a topic: \")  "
   ]
  },
  {
   "cell_type": "markdown",
   "metadata": {},
   "source": [
    "### 4. Connect to Twitter"
   ]
  },
  {
   "cell_type": "markdown",
   "metadata": {},
   "source": [
    "#### Skip my credentials' input"
   ]
  },
  {
   "cell_type": "code",
   "execution_count": 94,
   "metadata": {},
   "outputs": [
    {
     "name": "stdout",
     "output_type": "stream",
     "text": [
      "My credentials as a single string:········\n"
     ]
    }
   ],
   "source": [
    "# Copy/Paste from local ./twitter.cfg\n",
    "key = getpass.getpass(prompt=\"My credentials as a single string:\") "
   ]
  },
  {
   "cell_type": "markdown",
   "metadata": {},
   "source": [
    "#### Enter your own credentials"
   ]
  },
  {
   "cell_type": "code",
   "execution_count": 95,
   "metadata": {},
   "outputs": [],
   "source": [
    "# Set credentials : \n",
    "consumer_key        = key[0:25]    or input(\"consumer_key: \")\n",
    "consumer_secret     = key[25:75]   or input(\"consumer_secret: \")\n",
    "access_token        = key[75:125]  or input(\"access_token: \")\n",
    "access_token_secret = key[125:170] or input(\"access_token_secret: \")\n",
    "      \n",
    "# Twitter Access\n",
    "auth = tw.OAuthHandler(consumer_key, consumer_secret)\n",
    "auth.set_access_token(access_token, access_token_secret)\n",
    "api = tw.API(auth, wait_on_rate_limit=True)"
   ]
  },
  {
   "cell_type": "markdown",
   "metadata": {},
   "source": [
    "### 5. Tweets as a list of strings"
   ]
  },
  {
   "cell_type": "code",
   "execution_count": 96,
   "metadata": {},
   "outputs": [
    {
     "name": "stdout",
     "output_type": "stream",
     "text": [
      "collection_words=['vaccin']\n",
      "all_tweets[0]=Thread ⚠\n",
      "Météo #COVID19france du 12/04:\n",
      "\n",
      "Aujourd'hui est, normalement, arrivée la première livraison du #vaccin… https://t.co/lP6slrUIE5\n"
     ]
    }
   ],
   "source": [
    "# Search Keywords\n",
    "search_term = par_keywords + \" -filter:retweets\"\n",
    "kw = par_keywords.replace('#', '').split(\"+\")\n",
    "collection_words = kw + ([i + j for i in kw for j in kw if i != j])\n",
    "# Debug \n",
    "print(\"collection_words=\" + str(collection_words))\n",
    "\n",
    "# Get a list of tweets\n",
    "tweets = tw.Cursor(api.search,\n",
    "                   q=search_term,\n",
    "                   lang=par_lang,\n",
    "                   since=search_start_date).items(par_sample_size)\n",
    "\n",
    "# Get a list of tweets' text\n",
    "all_tweets = [tweet.text for tweet in tweets]\n",
    "# Debug \n",
    "print(\"all_tweets[0]=\" + str(all_tweets[0]))"
   ]
  },
  {
   "cell_type": "markdown",
   "metadata": {},
   "source": [
    "### 6. Clean data"
   ]
  },
  {
   "cell_type": "code",
   "execution_count": 79,
   "metadata": {},
   "outputs": [
    {
     "name": "stdout",
     "output_type": "stream",
     "text": [
      "all_tweets_no_urls[0]=Thread Météo COVID19france du 1204Aujourdhui est normalement arrivée la première livraison du vaccin\n"
     ]
    }
   ],
   "source": [
    "# Clean: URL out\n",
    "def remove_url(txt):\n",
    "    # Remove url from string 'txt'\n",
    "    european_chars = \"À-ÿ\" \n",
    "    return \" \".join(re.sub(\"([^0-9A-Za-z\" + european_chars + \" \\t])|(\\w+:\\/\\/\\S+)\", \"\", txt).split())\n",
    "all_tweets_no_urls = [remove_url(tweet) for tweet in all_tweets]\n",
    "# Debug \n",
    "print(\"all_tweets_no_urls[0]=\" + str(all_tweets_no_urls[0]))"
   ]
  },
  {
   "cell_type": "markdown",
   "metadata": {},
   "source": [
    "### 7. Sentiment Analysis"
   ]
  },
  {
   "cell_type": "code",
   "execution_count": 80,
   "metadata": {},
   "outputs": [
    {
     "name": "stdout",
     "output_type": "stream",
     "text": [
      "polarity[0]=[0.3, 'Thread Météo COVID19france du 1204Aujourdhui est normalement arrivée la première livraison du vaccin']\n"
     ]
    }
   ],
   "source": [
    "# Get list of tuples [polarity, tweet as text blob] from objects textblobs extracted from tweets\n",
    "if   (lang == 'en'): \n",
    "    sentiment_objects = [TextBlob(tweet) for tweet in all_tweets_no_urls]\n",
    "    sentiment_values = [[tweet.sentiment.polarity, str(tweet)] for tweet in sentiment_objects]\n",
    "elif (lang == 'fr'): \n",
    "    sentiment_objects = [ TextBlob(tweet, pos_tagger=PatternTagger(), analyzer=PatternAnalyzer()) for tweet in all_tweets_no_urls ]\n",
    "    sentiment_values = [[tweet.sentiment[0], str(tweet)] for tweet in sentiment_objects]\n",
    "else : print(\"ERROR: Please enter a valid language in step 3\")\n",
    "\n",
    "# Debug\n",
    "print(\"polarity[0]=\" + str(sentiment_values[0]))"
   ]
  },
  {
   "cell_type": "markdown",
   "metadata": {},
   "source": [
    "### 8. Output Data as DataFrames"
   ]
  },
  {
   "cell_type": "code",
   "execution_count": 81,
   "metadata": {},
   "outputs": [
    {
     "name": "stdout",
     "output_type": "stream",
     "text": [
      "   polarity                                              tweet\n",
      "0  0.300000  Thread Météo COVID19france du 1204Aujourdhui e...\n",
      "1 -0.300000  Désolé Mais là faut dire les choses comme elle...\n",
      "2  0.035000  pour avoir des infos sur ce quil se passe au B...\n",
      "4  0.193333  atlanticofr Si ces supervariants brésiliens éc...\n",
      "5  0.193333  drlalexandre Si ces supervariants brésiliens é...\n"
     ]
    }
   ],
   "source": [
    "# Get dataframe out from list\n",
    "sentiment_df = pd.DataFrame(sentiment_values, columns=[\"polarity\", \"tweet\"])\n",
    "# Remove polarity values equal to zero\n",
    "sentiment_df = sentiment_df[sentiment_df.polarity != 0]\n",
    "print( str(sentiment_df.head()) )"
   ]
  },
  {
   "cell_type": "markdown",
   "metadata": {},
   "source": [
    "### 9. Graph: Histogram of polarity"
   ]
  },
  {
   "cell_type": "code",
   "execution_count": 82,
   "metadata": {},
   "outputs": [
    {
     "data": {
      "image/png": "[encoded data removed]",
      "text/plain": [
       "<Figure size 576x432 with 1 Axes>"
      ]
     },
     "metadata": {
      "needs_background": "light"
     },
     "output_type": "display_data"
    }
   ],
   "source": [
    "fig, ax = plt.subplots(figsize=(8, 6))\n",
    "sentiment_df.hist(bins=[-1, -0.75, -0.5, -0.25, 0.25, 0.5, 0.75, 1],\n",
    "             ax=ax,\n",
    "             color=\"green\")\n",
    "plt.title(\"Sentiments from Tweets on \" + \"-\".join(kw))\n",
    "plt.show()"
   ]
  }
 ],
 "metadata": {
  "kernelspec": {
   "display_name": "Python 3",
   "language": "python",
   "name": "python3"
  },
  "language_info": {
   "codemirror_mode": {
    "name": "ipython",
    "version": 3
   },
   "file_extension": ".py",
   "mimetype": "text/x-python",
   "name": "python",
   "nbconvert_exporter": "python",
   "pygments_lexer": "ipython3",
   "version": "3.8.5"
  }
 },
 "nbformat": 4,
 "nbformat_minor": 4
}
